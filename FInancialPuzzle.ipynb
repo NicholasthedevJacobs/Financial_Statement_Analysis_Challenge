{
 "cells": [
  {
   "cell_type": "code",
   "execution_count": 11,
   "id": "specific-breathing",
   "metadata": {},
   "outputs": [],
   "source": [
    "#Data \n",
    "revenue = [14574.49, 7606.46, 8611.41, 9175.41, 8058.65, 8105.44, 11496.28, 9766.09, 10305.32, 14379.96, 10713.97, 15433.50]\n",
    "expenses = [12051.82, 5695.07, 12319.20, 12089.72, 8658.57, 840.20, 3285.73, 5821.12, 6976.93, 16618.61, 10054.37, 3803.96]\n",
    "\n",
    "profit = []"
   ]
  },
  {
   "cell_type": "code",
   "execution_count": 12,
   "id": "dressed-colonial",
   "metadata": {},
   "outputs": [
    {
     "name": "stdout",
     "output_type": "stream",
     "text": [
      "[2522.67, 1911.3900000000003, -3707.790000000001, -2914.3099999999995, -599.9200000000001, 7265.24, 8210.550000000001, 3944.9700000000003, 3328.3899999999994, -2238.6500000000015, 659.5999999999985, 11629.54]\n"
     ]
    }
   ],
   "source": [
    "#Calculates a list of the overall monthly profit\n",
    "\n",
    "for val in range(len(revenue)):\n",
    "        \n",
    "    monthly_profit = revenue[val] - expenses[val]\n",
    "    profit.append(monthly_profit)\n",
    "        \n",
    "\n",
    "print(profit)\n"
   ]
  }
 ],
 "metadata": {
  "kernelspec": {
   "display_name": "Python 3",
   "language": "python",
   "name": "python3"
  },
  "language_info": {
   "codemirror_mode": {
    "name": "ipython",
    "version": 3
   },
   "file_extension": ".py",
   "mimetype": "text/x-python",
   "name": "python",
   "nbconvert_exporter": "python",
   "pygments_lexer": "ipython3",
   "version": "3.9.2"
  }
 },
 "nbformat": 4,
 "nbformat_minor": 5
}
