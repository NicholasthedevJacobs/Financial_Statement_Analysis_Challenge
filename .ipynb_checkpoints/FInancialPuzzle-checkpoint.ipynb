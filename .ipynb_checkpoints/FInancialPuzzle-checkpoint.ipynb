{
 "cells": [
  {
   "cell_type": "code",
   "execution_count": 2,
   "id": "instant-steel",
   "metadata": {},
   "outputs": [],
   "source": [
    "#Data \n",
    "revenue = [14574.49, 7606.46, 8611.41, 9175.41, 8058.65, 8105.44, 11496.28, 9766.09, 10305.32, 14379.96, 10713.97, 15433.50]\n",
    "expenses = [12051.82, 5695.07, 12319.20, 12089.72, 8658.57, 840.20, 3285.73, 5821.12, 6976.93, 16618.61, 10054.37, 3803.96]\n",
    "\n",
    "profit = []\n"
   ]
  },
  {
   "cell_type": "code",
   "execution_count": 4,
   "id": "physical-photographer",
   "metadata": {},
   "outputs": [
    {
     "name": "stdout",
     "output_type": "stream",
     "text": [
      "[2522.67, 1911.3900000000003, -3707.790000000001, -2914.3099999999995, -599.9200000000001, 7265.24, 8210.550000000001, 3944.9700000000003, 3328.3899999999994, -2238.6500000000015, 659.5999999999985, 11629.54, 2522.67, 1911.3900000000003, -3707.790000000001, -2914.3099999999995, -599.9200000000001, 7265.24, 8210.550000000001, 3944.9700000000003, 3328.3899999999994, -2238.6500000000015, 659.5999999999985, 11629.54]\n"
     ]
    }
   ],
   "source": [
    "#Calculates a list of the overall monthly profit\n",
    "\n",
    "for val in range(len(revenue)):\n",
    "        \n",
    "    monthly_profit = revenue[val] - expenses[val]\n",
    "    profit.append(monthly_profit)\n",
    "        \n",
    "\n",
    "print(profit)\n",
    "\n",
    "\n"
   ]
  },
  {
   "cell_type": "code",
   "execution_count": 5,
   "id": "raising-space",
   "metadata": {},
   "outputs": [
    {
     "name": "stdout",
     "output_type": "stream",
     "text": [
      "[756.8, 573.42, -1112.34, -874.29, -179.98, 2179.57, 2463.17, 1183.49, 998.52, -671.6, 197.88, 3488.86, 756.8, 573.42, -1112.34, -874.29, -179.98, 2179.57, 2463.17, 1183.49, 998.52, -671.6, 197.88, 3488.86]\n"
     ]
    }
   ],
   "source": [
    "#Calculates tax as 30% of profit and rounding to two decimal places\n",
    "\n",
    "tax = [round(i * 0.3, 2) for i in profit]\n",
    "\n",
    "print(tax)"
   ]
  },
  {
   "cell_type": "code",
   "execution_count": null,
   "id": "positive-mother",
   "metadata": {},
   "outputs": [],
   "source": [
    "#Calculates tax for each month after profits\n",
    "\n"
   ]
  },
  {
   "cell_type": "code",
   "execution_count": null,
   "id": "passing-genesis",
   "metadata": {},
   "outputs": [],
   "source": []
  }
 ],
 "metadata": {
  "kernelspec": {
   "display_name": "Python 3",
   "language": "python",
   "name": "python3"
  },
  "language_info": {
   "codemirror_mode": {
    "name": "ipython",
    "version": 3
   },
   "file_extension": ".py",
   "mimetype": "text/x-python",
   "name": "python",
   "nbconvert_exporter": "python",
   "pygments_lexer": "ipython3",
   "version": "3.9.2"
  }
 },
 "nbformat": 4,
 "nbformat_minor": 5
}
